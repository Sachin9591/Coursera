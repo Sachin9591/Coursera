{
  "metadata": {
    "kernelspec": {
      "name": "python",
      "display_name": "Python (Pyodide)",
      "language": "python"
    },
    "language_info": {
      "codemirror_mode": {
        "name": "python",
        "version": 3
      },
      "file_extension": ".py",
      "mimetype": "text/x-python",
      "name": "python",
      "nbconvert_exporter": "python",
      "pygments_lexer": "ipython3",
      "version": "3.8"
    }
  },
  "nbformat_minor": 4,
  "nbformat": 4,
  "cells": [
    {
      "cell_type": "markdown",
      "source": "# H1: Data Science Tools and Ecosystem",
      "metadata": {}
    },
    {
      "cell_type": "markdown",
      "source": "# H1: Data Science Tools and Ecosystem",
      "metadata": {}
    },
    {
      "cell_type": "markdown",
      "source": "# In this notebook, Data Science Tools and Ecosystem are summarized.",
      "metadata": {}
    },
    {
      "cell_type": "markdown",
      "source": "# In this notebook, Data Science Tools and Ecosystem are summarized.",
      "metadata": {}
    },
    {
      "cell_type": "markdown",
      "source": "**Objectives:**\n* Python\n* R\n* Scala\n* SQL\n* Java",
      "metadata": {}
    },
    {
      "cell_type": "markdown",
      "source": "**Objectives:**\n* Python\n* R\n* Scala\n* SQL\n* Java",
      "metadata": {}
    },
    {
      "cell_type": "markdown",
      "source": "# Some of the popular languages that Data Scientists use are:\n1. Python\n2. SQL\n3. R\n4. Scala\n5. Julia",
      "metadata": {}
    },
    {
      "cell_type": "markdown",
      "source": "# Some of the popular languages that Data Scientists use are:\n1. Python\n2. SQL\n3. R\n4. Scala\n5. Julia",
      "metadata": {}
    },
    {
      "cell_type": "markdown",
      "source": "# Some of the commonly used libraries used by Data Scientists include:\n1. Matplotlib\n2. NumPy\n3. Scikit-learn\n4. Seaborn\n5. Keras\n6. TensorFlow",
      "metadata": {}
    },
    {
      "cell_type": "markdown",
      "source": "# Some of the commonly used libraries used by Data Scientists include:\n1. Matplotlib\n2. NumPy\n3. Scikit-learn\n4. Seaborn\n5. Keras\n6. TensorFlow",
      "metadata": {}
    },
    {
      "cell_type": "markdown",
      "source": "|Data Science Tools|\n|----|\n|Apache Spark|\n|Apache Hadoop|\n|TensorFlow|",
      "metadata": {}
    },
    {
      "cell_type": "markdown",
      "source": "|Data Science Tools|\n|----|\n|Apache Spark|\n|Apache Hadoop|\n|TensorFlow|",
      "metadata": {}
    },
    {
      "cell_type": "markdown",
      "source": "### H3: Below are a few examples of evaluating arithmetic expressions in Python",
      "metadata": {}
    },
    {
      "cell_type": "markdown",
      "source": "### H3: Below are a few examples of evaluating arithmetic expressions in Python",
      "metadata": {}
    },
    {
      "cell_type": "code",
      "source": "# This a simple arithmetic expression to mutiply then add integers\n(3*4)+5",
      "metadata": {
        "trusted": true
      },
      "outputs": [
        {
          "execution_count": 10,
          "output_type": "execute_result",
          "data": {
            "text/plain": "17"
          },
          "metadata": {}
        }
      ],
      "execution_count": 10
    },
    {
      "cell_type": "code",
      "source": "# This will convert 200 minutes to hours by diving by 60\nhours, minutes = divmod(200, 60)\nprint(hours, minutes)",
      "metadata": {
        "trusted": true
      },
      "outputs": [
        {
          "name": "stdout",
          "text": "3 20\n",
          "output_type": "stream"
        }
      ],
      "execution_count": 11
    },
    {
      "cell_type": "markdown",
      "source": "## H2: Author\n# Sachin",
      "metadata": {}
    },
    {
      "cell_type": "markdown",
      "source": "## H2: Author\n# Sachin",
      "metadata": {}
    }
  ]
}